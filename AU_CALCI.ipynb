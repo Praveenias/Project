{
 "cells": [
  {
   "cell_type": "markdown",
   "metadata": {},
   "source": [
    "# AU_CGPA_CALCULATOR"
   ]
  },
  {
   "cell_type": "markdown",
   "metadata": {},
   "source": [
    "### Libraries used: Pandas,Matplolib"
   ]
  },
  {
   "cell_type": "code",
   "execution_count": 14,
   "metadata": {},
   "outputs": [
    {
     "name": "stdout",
     "output_type": "stream",
     "text": [
      "******CGPA CALCULATOR*****\n",
      "Enter the department:cse\n",
      "ENTER YOUR SEMESTER:1\n",
      "Enter marks for MA8151 - ENGINEERING MATHEMATICS-1 :\n",
      "b\n",
      "Enter marks for GE8151 - ENGINEERING GRAPHICS :\n",
      "a+\n",
      "Enter marks for HS8151 - COMMUINUCATIVE ENGLISH :\n",
      "b+\n",
      "Enter marks for GE8151 - PROBLEM SOLVING THROUGH PYTHON :\n",
      "b+\n",
      "Enter marks for CY8151 - ENGINEERING CHEMISTRY :\n",
      "a\n",
      "Enter marks for PH8151 - ENGINEERING PHYSICS :\n",
      "a\n",
      "Enter marks for GE8161 - PYTHON LABOROTARY :\n",
      "o\n",
      "Enter marks for BS8161 - PHY AND CHE LABORATORY :\n",
      "o\n",
      "GPA FOR THE 1 SEMESTER IS 7.88\n"
     ]
    },
    {
     "data": {
      "image/png": "[encoded data removed]",
      "text/plain": [
       "<Figure size 432x288 with 1 Axes>"
      ]
     },
     "metadata": {
      "needs_background": "light"
     },
     "output_type": "display_data"
    }
   ],
   "source": [
    "import pandas as pd\n",
    "import matplotlib.pyplot as plt\n",
    "\n",
    "print('******CGPA CALCULATOR*****')\n",
    "a = input(\"Enter the department:\")\n",
    "\n",
    "def cgpa(c):\n",
    "    try:\n",
    "        l = []\n",
    "        k = 0\n",
    "        cr= 0\n",
    "        grade = {'o':10,'a+':9,'a':8,'b+':7,'b':6,'ra':0}\n",
    "        b = int(input(\"ENTER YOUR SEMESTER:\"))\n",
    "        if b:\n",
    "            h = b-1\n",
    "            for i in range(h*8,b*8):\n",
    "                print(\"Enter marks for\",c['SUB_CODE'][i],\"-\",c['SUBJECT_NAME'][i],\":\")\n",
    "                w = input()\n",
    "                if w not in grade :\n",
    "                    print(\"Enter Valid Input\")\n",
    "                    return\n",
    "                else:\n",
    "                    l.append(grade[w])\n",
    "                    k+= int(grade[w]*c['CREDITS'][i])\n",
    "                    cr+= c['CREDITS'][i]\n",
    "            print(\"GPA FOR THE {} SEMESTER IS {}\".format(b,k/cr))\n",
    "            plt.bar(c['SUB_CODE'][h*8:b*8],l)\n",
    "            plt.xlabel(\"Subjects\")\n",
    "            plt.ylabel(\"Marks out of 10\")\n",
    "    except:\n",
    "        print('**Sorry,Try another time***')\n",
    "        \n",
    "                \n",
    "if a == \"cse\":\n",
    "    c = pd.read_excel(r\"C:\\Users\\PRAVEEN\\Documents\\PYthon_Praveen\\CSE.xlsx\",sheet_name='CSE')\n",
    "    cgpa(c)\n",
    "elif a== \"ece\":\n",
    "    c = pd.read_excel(r\"C:\\Users\\PRAVEEN\\Documents\\PYthon_Praveen\\CSE.xlsx\",sheet_name='ECE')\n",
    "    cgpa(c)\n",
    "elif a==\"mech\":\n",
    "    c = pd.read_excel(r\"C:\\Users\\PRAVEEN\\Documents\\PYthon_Praveen\\CSE.xlsx\",sheet_name='MECH')\n",
    "    cgpa(c)\n",
    "else:\n",
    "    print(\"Enter only cse/ece/mech Departments\")\n",
    "    \n",
    "    \n"
   ]
  },
  {
   "cell_type": "code",
   "execution_count": null,
   "metadata": {},
   "outputs": [],
   "source": []
  }
 ],
 "metadata": {
  "kernelspec": {
   "display_name": "Python 3",
   "language": "python",
   "name": "python3"
  },
  "language_info": {
   "codemirror_mode": {
    "name": "ipython",
    "version": 3
   },
   "file_extension": ".py",
   "mimetype": "text/x-python",
   "name": "python",
   "nbconvert_exporter": "python",
   "pygments_lexer": "ipython3",
   "version": "3.7.6"
  }
 },
 "nbformat": 4,
 "nbformat_minor": 4
}
